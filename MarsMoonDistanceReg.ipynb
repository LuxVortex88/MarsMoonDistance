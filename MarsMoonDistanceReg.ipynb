{
  "nbformat": 4,
  "nbformat_minor": 0,
  "metadata": {
    "colab": {
      "provenance": [],
      "authorship_tag": "ABX9TyMnhTn7LURWJezmwx4UD0hy"
    },
    "kernelspec": {
      "name": "python3",
      "display_name": "Python 3"
    },
    "language_info": {
      "name": "python"
    }
  },
  "cells": [
    {
      "cell_type": "code",
      "execution_count": 7,
      "metadata": {
        "colab": {
          "base_uri": "https://localhost:8080/"
        },
        "id": "-OF_Eu77WOTL",
        "outputId": "d8c1ceae-2356-4f82-9488-bd413f229eaa"
      },
      "outputs": [
        {
          "output_type": "stream",
          "name": "stdout",
          "text": [
            "     moon  Diameter_km Planet_name  Planet_Mass_kg  Orbital_Distance_km\n",
            "0  Phobos         22.4        Mars    6.390000e+23                 9376\n",
            "1  Deimos         12.4        Mars    6.390000e+23                23463\n",
            "2    Moon       3475.0       Earth    5.970000e+24               384400\n"
          ]
        }
      ],
      "source": [
        "import torch\n",
        "import torch.nn as nn\n",
        "import torch.optim as optim\n",
        "import pandas as pd\n",
        "import matplotlib.pyplot as plt\n",
        "\n",
        "data = {'moon': ['Phobos', 'Deimos', 'Moon'],\n",
        "        'Diameter_km': [22.4, 12.4, 3475],\n",
        "        'Planet_name': ['Mars','Mars','Earth'],\n",
        "        'Planet_Mass_kg': [6.39e23,6.39e23,5.97e24], # Mars or Earth\n",
        "        'Orbital_Distance_km': [9376,23463, 384400]\n",
        "\n",
        "}\n",
        "df = pd.DataFrame(data)\n",
        "\n",
        "print(df)"
      ]
    },
    {
      "cell_type": "code",
      "source": [
        "# Normalize Datasets\n",
        "df['Diameter_norm'] = df['Diameter_km'] / df['Diameter_km'].max()\n",
        "df['Mass_norm'] = df['Planet_Mass_kg'] / df['Planet_Mass_kg'].max()\n",
        "df['Distance_norm'] = df['Orbital_Distance_km'] / df['Orbital_Distance_km'].max()\n",
        "\n",
        "X = torch.tensor(df[['Diameter_norm', 'Mass_norm']].values, dtype=torch.float32)\n",
        "y = torch.tensor(df['Distance_norm'].values.reshape(-1, 1), dtype=torch.float32)\n"
      ],
      "metadata": {
        "id": "Q2L8azUOZGZF"
      },
      "execution_count": 8,
      "outputs": []
    },
    {
      "cell_type": "code",
      "source": [
        "model = nn.Sequential(\n",
        "    nn.Linear(2, 8),\n",
        "    nn.ReLU(),\n",
        "    nn.Linear(8, 1)\n",
        ")"
      ],
      "metadata": {
        "id": "ygSq2Rp7ZMct"
      },
      "execution_count": 9,
      "outputs": []
    },
    {
      "cell_type": "code",
      "source": [
        "optimizer = optim.Adam(model.parameters(), lr=0.01)\n",
        "criterion = nn.MSELoss()\n",
        "epochs = 85000\n",
        "losses = []\n",
        "\n",
        "for epoch in range(epochs):\n",
        "    model.train()\n",
        "    optimizer.zero_grad()\n",
        "\n",
        "    output = model(X)\n",
        "    loss = criterion(output, y)\n",
        "    loss.backward()\n",
        "    optimizer.step()\n",
        "\n",
        "    losses.append(loss.item())\n",
        "    if epoch % 800 == 0:\n",
        "        print(f\"Epoch {epoch}, Loss: {loss.item():.6f}\")\n"
      ],
      "metadata": {
        "colab": {
          "base_uri": "https://localhost:8080/"
        },
        "id": "pM1Ep5yGZWe0",
        "outputId": "a5d0ed91-1fda-451d-aeb9-66d183cda7f0"
      },
      "execution_count": 12,
      "outputs": [
        {
          "output_type": "stream",
          "name": "stdout",
          "text": [
            "Epoch 0, Loss: 0.000230\n",
            "Epoch 800, Loss: 0.000224\n",
            "Epoch 1600, Loss: 0.000217\n",
            "Epoch 2400, Loss: 0.000240\n",
            "Epoch 3200, Loss: 0.000203\n",
            "Epoch 4000, Loss: 0.000435\n",
            "Epoch 4800, Loss: 0.000187\n",
            "Epoch 5600, Loss: 0.000178\n",
            "Epoch 6400, Loss: 0.000169\n",
            "Epoch 7200, Loss: 0.000161\n",
            "Epoch 8000, Loss: 0.000151\n",
            "Epoch 8800, Loss: 0.000025\n",
            "Epoch 9600, Loss: 0.000001\n",
            "Epoch 10400, Loss: 0.000000\n",
            "Epoch 11200, Loss: 0.000000\n",
            "Epoch 12000, Loss: 0.000000\n",
            "Epoch 12800, Loss: 0.000000\n",
            "Epoch 13600, Loss: 0.000000\n",
            "Epoch 14400, Loss: 0.000000\n",
            "Epoch 15200, Loss: 0.000000\n",
            "Epoch 16000, Loss: 0.000000\n",
            "Epoch 16800, Loss: 0.000154\n",
            "Epoch 17600, Loss: 0.000147\n",
            "Epoch 18400, Loss: 0.000140\n",
            "Epoch 19200, Loss: 0.000132\n",
            "Epoch 20000, Loss: 0.000127\n",
            "Epoch 20800, Loss: 0.000136\n",
            "Epoch 21600, Loss: 0.000109\n",
            "Epoch 22400, Loss: 0.000103\n",
            "Epoch 23200, Loss: 0.000097\n",
            "Epoch 24000, Loss: 0.000091\n",
            "Epoch 24800, Loss: 0.000085\n",
            "Epoch 25600, Loss: 0.000082\n",
            "Epoch 26400, Loss: 0.000076\n",
            "Epoch 27200, Loss: 0.000071\n",
            "Epoch 28000, Loss: 0.000079\n",
            "Epoch 28800, Loss: 0.000063\n",
            "Epoch 29600, Loss: 0.000059\n",
            "Epoch 30400, Loss: 0.000056\n",
            "Epoch 31200, Loss: 0.000052\n",
            "Epoch 32000, Loss: 0.000049\n",
            "Epoch 32800, Loss: 0.000046\n",
            "Epoch 33600, Loss: 0.000043\n",
            "Epoch 34400, Loss: 0.000041\n",
            "Epoch 35200, Loss: 0.000039\n",
            "Epoch 36000, Loss: 0.000036\n",
            "Epoch 36800, Loss: 0.000034\n",
            "Epoch 37600, Loss: 0.000032\n",
            "Epoch 38400, Loss: 0.000030\n",
            "Epoch 39200, Loss: 0.000058\n",
            "Epoch 40000, Loss: 0.000027\n",
            "Epoch 40800, Loss: 0.000025\n",
            "Epoch 41600, Loss: 0.000024\n",
            "Epoch 42400, Loss: 0.000023\n",
            "Epoch 43200, Loss: 0.000021\n",
            "Epoch 44000, Loss: 0.000065\n",
            "Epoch 44800, Loss: 0.000019\n",
            "Epoch 45600, Loss: 0.000018\n",
            "Epoch 46400, Loss: 0.000017\n",
            "Epoch 47200, Loss: 0.000016\n",
            "Epoch 48000, Loss: 0.000015\n",
            "Epoch 48800, Loss: 0.000014\n",
            "Epoch 49600, Loss: 0.000018\n",
            "Epoch 50400, Loss: 0.000013\n",
            "Epoch 51200, Loss: 0.000012\n",
            "Epoch 52000, Loss: 0.000012\n",
            "Epoch 52800, Loss: 0.000011\n",
            "Epoch 53600, Loss: 0.000011\n",
            "Epoch 54400, Loss: 0.000010\n",
            "Epoch 55200, Loss: 0.000183\n",
            "Epoch 56000, Loss: 0.000010\n",
            "Epoch 56800, Loss: 0.000009\n",
            "Epoch 57600, Loss: 0.000044\n",
            "Epoch 58400, Loss: 0.000009\n",
            "Epoch 59200, Loss: 0.000012\n",
            "Epoch 60000, Loss: 0.000007\n",
            "Epoch 60800, Loss: 0.000284\n",
            "Epoch 61600, Loss: 0.000009\n",
            "Epoch 62400, Loss: 0.000007\n",
            "Epoch 63200, Loss: 0.000006\n",
            "Epoch 64000, Loss: 0.000006\n",
            "Epoch 64800, Loss: 0.000185\n",
            "Epoch 65600, Loss: 0.000006\n",
            "Epoch 66400, Loss: 0.000005\n",
            "Epoch 67200, Loss: 0.000105\n",
            "Epoch 68000, Loss: 0.000005\n",
            "Epoch 68800, Loss: 0.000005\n",
            "Epoch 69600, Loss: 0.000005\n",
            "Epoch 70400, Loss: 0.000004\n",
            "Epoch 71200, Loss: 0.000005\n",
            "Epoch 72000, Loss: 0.000004\n",
            "Epoch 72800, Loss: 0.000004\n",
            "Epoch 73600, Loss: 0.000004\n",
            "Epoch 74400, Loss: 0.000130\n",
            "Epoch 75200, Loss: 0.000004\n",
            "Epoch 76000, Loss: 0.000003\n",
            "Epoch 76800, Loss: 0.000003\n",
            "Epoch 77600, Loss: 0.000003\n",
            "Epoch 78400, Loss: 0.000003\n",
            "Epoch 79200, Loss: 0.000003\n",
            "Epoch 80000, Loss: 0.000003\n",
            "Epoch 80800, Loss: 0.000003\n",
            "Epoch 81600, Loss: 0.000100\n",
            "Epoch 82400, Loss: 0.000004\n",
            "Epoch 83200, Loss: 0.000158\n",
            "Epoch 84000, Loss: 0.000378\n",
            "Epoch 84800, Loss: 0.000003\n"
          ]
        }
      ]
    },
    {
      "cell_type": "code",
      "source": [
        "plt.plot(losses)\n",
        "plt.xlabel('Epochs')\n",
        "plt.ylabel('Loss')\n",
        "plt.title('Training Loss')\n",
        "plt.show()"
      ],
      "metadata": {
        "colab": {
          "base_uri": "https://localhost:8080/",
          "height": 472
        },
        "id": "JQj9MwBqZnOb",
        "outputId": "08f9dc06-60d7-4562-d0cd-e80c3bb7eed3"
      },
      "execution_count": 11,
      "outputs": [
        {
          "output_type": "display_data",
          "data": {
            "text/plain": [
              "<Figure size 640x480 with 1 Axes>"
            ],
            "image/png": "[encoded data removed]"
          },
          "metadata": {}
        }
      ]
    }
  ]
}